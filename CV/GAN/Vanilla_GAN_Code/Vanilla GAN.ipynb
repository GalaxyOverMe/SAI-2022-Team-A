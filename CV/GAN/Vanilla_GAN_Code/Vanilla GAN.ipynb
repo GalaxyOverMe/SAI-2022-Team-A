{
 "cells": [
  {
   "cell_type": "markdown",
   "id": "da071aac",
   "metadata": {},
   "source": [
    "## 1) Libraries & Hyperparameters"
   ]
  },
  {
   "cell_type": "code",
   "execution_count": 4,
   "id": "1c7d64e5",
   "metadata": {},
   "outputs": [],
   "source": [
    "import os\n",
    "import torch\n",
    "import torch.nn as nn\n",
    "import torch.utils as utils\n",
    "import torch.nn.init as init\n",
    "import torchvision.utils as v_utils\n",
    "import torchvision.datasets as dset\n",
    "import torchvision.transforms as transforms\n",
    "import numpy as np\n",
    "import matplotlib.pyplot as plt"
   ]
  },
  {
   "cell_type": "code",
   "execution_count": 5,
   "id": "1b09f4a6",
   "metadata": {},
   "outputs": [],
   "source": [
    "# Hyperparameter\n",
    "\n",
    "epoch = 100\n",
    "batch_size = 256\n",
    "learning_rate = 0.0002\n",
    "z_size = 100"
   ]
  },
  {
   "cell_type": "markdown",
   "id": "1090c3f9",
   "metadata": {},
   "source": [
    "## 2) Generator"
   ]
  },
  {
   "cell_type": "code",
   "execution_count": 6,
   "id": "78ac2f59",
   "metadata": {},
   "outputs": [],
   "source": [
    "# Generator receives random noise z and create 1*28*28 image\n",
    "\n",
    "class Generator(nn.Module):\n",
    "    def __init__(self):\n",
    "        super(Generator,self).__init__()\n",
    "        \n",
    "        def block(input_dim, output_dim, normalize=True):\n",
    "            layers = [nn.Linear(input_dim, output_dim)]\n",
    "            \n",
    "            if normalize:\n",
    "                layers.append(nn.BatchNorm1d(output_dim, momentum=0.8))\n",
    "            \n",
    "            layers.append(nn.LeakyReLU(0.1, inplace=True))\n",
    "            return layers\n",
    "    \n",
    "        self.model = nn.Sequential(\n",
    "            *block(z_size, 128, normalize=False),\n",
    "            *block(128, 256),\n",
    "            *block(256, 512),\n",
    "            *block(512, 1024),\n",
    "            nn.Linear(1024, 1 * 28 * 28),\n",
    "            nn.Tanh()\n",
    "        )\n",
    "        \n",
    "    def forward(self,z):\n",
    "        out = self.model(z)\n",
    "        out = out.view(batch_size,1,28,28)\n",
    "        return out"
   ]
  },
  {
   "cell_type": "markdown",
   "id": "4f272a38",
   "metadata": {},
   "source": [
    "## 3) Discriminator"
   ]
  },
  {
   "cell_type": "code",
   "execution_count": 7,
   "id": "18ac23c1",
   "metadata": {},
   "outputs": [],
   "source": [
    "# Discriminator receives 1*28*28 image and returns a float number 0~1\n",
    "\n",
    "class Discriminator(nn.Module):\n",
    "    def __init__(self):\n",
    "        super(Discriminator,self).__init__()\n",
    "        \n",
    "        self.model = nn.Sequential(\n",
    "            nn.Linear(1 * 28 * 28, 512),\n",
    "            nn.LeakyReLU(0.1, inplace=True),\n",
    "            nn.Linear(512, 256),\n",
    "            nn.LeakyReLU(0.1, inplace=True),\n",
    "            nn.Linear(256, 1),\n",
    "            nn.Sigmoid(),\n",
    "        )\n",
    "        \n",
    "    def forward(self,x):\n",
    "        out = x.view(batch_size, -1)\n",
    "        out = self.model(out)\n",
    "        return out"
   ]
  },
  {
   "cell_type": "markdown",
   "id": "c69f3c68",
   "metadata": {},
   "source": [
    "## 4) Data Load"
   ]
  },
  {
   "cell_type": "code",
   "execution_count": 10,
   "id": "a213879a",
   "metadata": {},
   "outputs": [
    {
     "name": "stdout",
     "output_type": "stream",
     "text": [
      "cpu\n"
     ]
    }
   ],
   "source": [
    "transforms_train = transforms.Compose([\n",
    "    transforms.Resize(28),\n",
    "    transforms.ToTensor(),\n",
    "    transforms.Normalize([0.5],[0.5])\n",
    "])\n",
    "\n",
    "mnist_train = dset.MNIST(\"./\",\n",
    "                         train=True,\n",
    "                        transform = transforms_train,\n",
    "                        download=False)\n",
    "\n",
    "train_loader = torch.utils.data.DataLoader(dataset=mnist_train,\n",
    "                                           batch_size=batch_size,\n",
    "                                           shuffle=True,\n",
    "                                           drop_last=True,\n",
    "                                           num_workers=8)\n",
    "\n",
    "device = torch.device('cuda') if torch.cuda.is_available() else torch.device('cpu')\n",
    "print(device)\n",
    "#print(torch.cuda.get_device_name(0))\n",
    "\n",
    "generator = Generator().to(device)\n",
    "discriminator = Discriminator().to(device)"
   ]
  },
  {
   "cell_type": "markdown",
   "id": "64b5181e",
   "metadata": {},
   "source": [
    "## 5) Loss Function & Optimizer"
   ]
  },
  {
   "cell_type": "code",
   "execution_count": 11,
   "id": "b2cf4e47",
   "metadata": {},
   "outputs": [],
   "source": [
    "loss_func = nn.BCELoss()\n",
    "loss_func.to(device)\n",
    "\n",
    "gen_optim = torch.optim.Adam(generator.parameters(), lr=learning_rate, betas=(0.5, 0.999))\n",
    "dis_optim = torch.optim.Adam(discriminator.parameters(), lr=learning_rate, betas=(0.5,0.999))\n",
    "\n",
    "\n",
    "ones_label = torch.ones(batch_size,1).to(device)\n",
    "zeros_label = torch.zeros(batch_size,1).to(device)"
   ]
  },
  {
   "cell_type": "markdown",
   "id": "15c5f5e2",
   "metadata": {},
   "source": [
    "## 6) Train Model"
   ]
  },
  {
   "cell_type": "code",
   "execution_count": 13,
   "id": "e343ee87",
   "metadata": {},
   "outputs": [],
   "source": [
    "%%time\n",
    "\n",
    "try:\n",
    "    os.mkdir(\"./result\")\n",
    "except:\n",
    "    pass\n",
    "\n",
    "for i in range(epoch):\n",
    "    for j,(image, _) in enumerate(train_loader):\n",
    "        image = image.to(device)\n",
    "        \n",
    "         # Generator Train\n",
    "        gen_optim.zero_grad()\n",
    "        \n",
    "        # Fake Data\n",
    "        z = init.kaiming_normal_(torch.Tensor(batch_size, z_size), a=0.2, mode='fan_in', nonlinearity='leaky_relu').to(device)\n",
    "        #z = torch.normal(mean=0, std=1, size=(batch_size,z_size)).to(device)\n",
    "        gen_fake = generator(z)\n",
    "        dis_fake = discriminator(gen_fake)\n",
    "        \n",
    "        gen_loss = loss_func(dis_fake, ones_label)\n",
    "        gen_loss.backward()\n",
    "        gen_optim.step()\n",
    "        \n",
    "        # discriminator train\n",
    "        dis_optim.zero_grad()\n",
    "        \n",
    "        # Real Data\n",
    "        dis_real = discriminator(image)\n",
    "        \n",
    "        # calculate gradient after sum two losses\n",
    "        real_loss = loss_func(dis_real,ones_label)\n",
    "        fake_loss = loss_func(discriminator(gen_fake.detach()), zeros_label)\n",
    "\n",
    "        dis_loss = (real_loss + fake_loss)/2\n",
    "        dis_loss.backward()\n",
    "        dis_optim.step()\n",
    "    \n",
    "    #torch.save([generator,discriminator], './model/vanilla_gan.pkl')\n",
    "    v_utils.save_image(gen_fake.cpu().data[0:100],'./result/gen_{}_{}.png'.format(i,j), nrow=10)\n",
    "    print(\"{}th epoch gen_loss: {} dis_loss:{}\".format(i,gen_loss.data,dis_loss.data))"
   ]
  },
  {
   "cell_type": "code",
   "execution_count": null,
   "id": "4b974dbe",
   "metadata": {},
   "outputs": [],
   "source": [
    "from glob import glob \n",
    "\n",
    "for i in range(epoch):\n",
    "    print(i)\n",
    "    file_list = glob(\"./result/gen_{}_*.png\".format(i))\n",
    "    img_per_epoch = len(file_list)\n",
    "    for idx,j in enumerate(file_list):\n",
    "        img = plt.imread(j)\n",
    "        plt.subplot(1,img_per_epoch,idx+1)\n",
    "        plt.imshow(img)\n",
    "    plt.show()"
   ]
  }
 ],
 "metadata": {
  "kernelspec": {
   "display_name": "Python 3",
   "language": "python",
   "name": "python3"
  },
  "language_info": {
   "codemirror_mode": {
    "name": "ipython",
    "version": 3
   },
   "file_extension": ".py",
   "mimetype": "text/x-python",
   "name": "python",
   "nbconvert_exporter": "python",
   "pygments_lexer": "ipython3",
   "version": "3.6.10"
  }
 },
 "nbformat": 4,
 "nbformat_minor": 5
}
